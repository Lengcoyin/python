{
 "cells": [
  {
   "cell_type": "code",
   "execution_count": 14,
   "id": "cc30956e",
   "metadata": {},
   "outputs": [
    {
     "ename": "SyntaxError",
     "evalue": "invalid character in identifier (<ipython-input-14-ac9881d2ba66>, line 1)",
     "output_type": "error",
     "traceback": [
      "\u001b[1;36m  File \u001b[1;32m\"<ipython-input-14-ac9881d2ba66>\"\u001b[1;36m, line \u001b[1;32m1\u001b[0m\n\u001b[1;33m    *记录人：yy\u001b[0m\n\u001b[1;37m          ^\u001b[0m\n\u001b[1;31mSyntaxError\u001b[0m\u001b[1;31m:\u001b[0m invalid character in identifier\n"
     ]
    }
   ],
   "source": [
    "*记录人：yy\n",
    "\n",
    "* 时间：2021-11-25\n",
    "\n",
    "* week13\n",
    "\n",
    "* 主要参考文档：\n",
    "\n",
    ">  1. python官方文档\n",
    ">  2. gitee课堂笔记\n",
    ">  3. 许老师博客"
   ]
  },
  {
   "cell_type": "markdown",
   "id": "ea6f6088",
   "metadata": {},
   "source": [
    "# 2.本周内容：\n",
    "\n",
    "## 2.1[集合]\n",
    "\n",
    "* 思考 ： 我想了解一组数据中有哪些唯一存在的值？（假如是列表）\n",
    "\n",
    "\n",
    "> 1.集合的性质\n",
    ">> 1.无序(unordered)\n",
    ">> 2.不重复(no duplicate)\n",
    "\n",
    "> 2.集合的一般方法\n",
    ">> 1.增加\n",
    ">> 2.删除\n",
    ">> 3.查询：in 查询成员关系\n",
    "\n",
    "> 3.集合的数学逻辑运算"
   ]
  },
  {
   "cell_type": "code",
   "execution_count": 3,
   "id": "dae32207",
   "metadata": {},
   "outputs": [],
   "source": [
    "no_duplicate_age = []\n",
    "list_age = [18,24,25,24,18,23,18]\n",
    "for i in list_age:\n",
    "    if i not in no_duplicate_age:\n",
    "        no_duplicate_age.append(i)"
   ]
  },
  {
   "cell_type": "code",
   "execution_count": 4,
   "id": "37ac249d",
   "metadata": {},
   "outputs": [
    {
     "data": {
      "text/plain": [
       "[18, 24, 25, 23]"
      ]
     },
     "execution_count": 4,
     "metadata": {},
     "output_type": "execute_result"
    }
   ],
   "source": [
    "no_duplicate_age"
   ]
  },
  {
   "cell_type": "code",
   "execution_count": 5,
   "id": "3a5b1b39",
   "metadata": {},
   "outputs": [
    {
     "name": "stdout",
     "output_type": "stream",
     "text": [
      "{24, 25, 18, 23}\n"
     ]
    }
   ],
   "source": [
    "# list ---> set的方法： set()\n",
    "no_duplicate_age_set = set(list_age)\n",
    "print(no_duplicate_age_set)"
   ]
  },
  {
   "cell_type": "code",
   "execution_count": 6,
   "id": "f819f37f",
   "metadata": {},
   "outputs": [
    {
     "name": "stdout",
     "output_type": "stream",
     "text": [
      "{'orange', 'apple', 'banana', 'pear'}\n",
      "True\n",
      "False\n"
     ]
    }
   ],
   "source": [
    "# 官方文档测试代码\n",
    "# 1. 移除重复项\n",
    "basket = {'apple','orange','apple','pear','orange','banana'}\n",
    "print(basket)\n",
    "# 2.in查询成员关系\n",
    "print('orange'in basket)\n",
    "print('crabress'in basket)"
   ]
  },
  {
   "cell_type": "markdown",
   "id": "b3ef01a1",
   "metadata": {},
   "source": [
    "# 2.集合的一般方法\n",
    "\n",
    "* 集合的创建的两种一般方法\n",
    "\n",
    ">> 1.set(list)\n",
    ">> 2.直接按照集合的结构创建:{value1,value2,value3,}"
   ]
  },
  {
   "cell_type": "markdown",
   "id": "4aa1c273",
   "metadata": {},
   "source": [
    "> 1.增加\n",
    ">> * add() : Add an"
   ]
  },
  {
   "cell_type": "code",
   "execution_count": 7,
   "id": "34724f87",
   "metadata": {},
   "outputs": [
    {
     "name": "stdout",
     "output_type": "stream",
     "text": [
      "{0, 1, 66, 3, 4, 7, 8}\n"
     ]
    }
   ],
   "source": [
    "set_1 = set([1,3,4,0,8,66,7])\n",
    "print(set_1)"
   ]
  },
  {
   "cell_type": "code",
   "execution_count": 8,
   "id": "3bbe4216",
   "metadata": {},
   "outputs": [
    {
     "name": "stdout",
     "output_type": "stream",
     "text": [
      "Help on built-in function pop:\n",
      "\n",
      "pop(...) method of builtins.set instance\n",
      "    Remove and return an arbitrary set element.\n",
      "    Raises KeyError if the set is empty.\n",
      "\n"
     ]
    }
   ],
   "source": [
    "help(set_1.pop)"
   ]
  },
  {
   "cell_type": "code",
   "execution_count": 9,
   "id": "b4b4cc96",
   "metadata": {},
   "outputs": [
    {
     "name": "stdout",
     "output_type": "stream",
     "text": [
      "{0, 1, 66, 3, 4, 7, 8}\n"
     ]
    },
    {
     "data": {
      "text/plain": [
       "0"
      ]
     },
     "execution_count": 9,
     "metadata": {},
     "output_type": "execute_result"
    }
   ],
   "source": [
    "# 1.Remove and return an arbitrary set element.\n",
    "print(set_1)\n",
    "set_1.pop()"
   ]
  },
  {
   "cell_type": "markdown",
   "id": "71c9afb5",
   "metadata": {},
   "source": [
    "> 2.集合的并集\n",
    ">> 1.使用并集的方法\n",
    ">> 2.使用逻辑运算符"
   ]
  },
  {
   "cell_type": "code",
   "execution_count": 1,
   "id": "cbcd7f0a",
   "metadata": {},
   "outputs": [
    {
     "name": "stdout",
     "output_type": "stream",
     "text": [
      "\n"
     ]
    }
   ],
   "source": [
    "# 1.使用并集的方法: set_1.union(set_2)\n",
    "print()"
   ]
  },
  {
   "cell_type": "markdown",
   "id": "c680801b",
   "metadata": {},
   "source": [
    "# 3.集合的运算\n",
    "\n",
    "> 1. 集合的交集\n",
    "> 2. 集合的并集\n",
    "> 3. 集合的差集"
   ]
  },
  {
   "cell_type": "code",
   "execution_count": 2,
   "id": "34baa773",
   "metadata": {},
   "outputs": [
    {
     "name": "stdout",
     "output_type": "stream",
     "text": [
      "set_1 :  {1, 2, 3, 4, 5, 6, 7}\n",
      "set_2 :  {0, 1, 66, 3, 4, 7, 8}\n"
     ]
    }
   ],
   "source": [
    "set_1 = set([1,2,5,6,7,2,3,2,4,4])\n",
    "set_2 = set([1,3,4,0,8,66,7])\n",
    "print(\"set_1 : \",set_1)\n",
    "print(\"set_2 : \",set_2)"
   ]
  },
  {
   "cell_type": "code",
   "execution_count": 7,
   "id": "9e067e9a",
   "metadata": {
    "scrolled": true
   },
   "outputs": [
    {
     "ename": "SyntaxError",
     "evalue": "invalid syntax (<ipython-input-7-0ab77585e6e6>, line 1)",
     "output_type": "error",
     "traceback": [
      "\u001b[1;36m  File \u001b[1;32m\"<ipython-input-7-0ab77585e6e6>\"\u001b[1;36m, line \u001b[1;32m1\u001b[0m\n\u001b[1;33m    * 1. 集合的交集\u001b[0m\n\u001b[1;37m         ^\u001b[0m\n\u001b[1;31mSyntaxError\u001b[0m\u001b[1;31m:\u001b[0m invalid syntax\n"
     ]
    }
   ],
   "source": [
    "* 1. 集合的交集\n",
    ">> 1.使用集合的方法：set_1.intersection(set_2)\n",
    ">> 2.使用逻辑运算符：set_1 & set_2"
   ]
  },
  {
   "cell_type": "code",
   "execution_count": 8,
   "id": "20b9d282",
   "metadata": {},
   "outputs": [
    {
     "name": "stdout",
     "output_type": "stream",
     "text": [
      "Help on built-in function intersection:\n",
      "\n",
      "intersection(...) method of builtins.set instance\n",
      "    Return the intersection of two sets as a new set.\n",
      "    \n",
      "    (i.e. all elements that are in both sets.)\n",
      "\n"
     ]
    }
   ],
   "source": [
    "help(set_1.intersection)"
   ]
  },
  {
   "cell_type": "code",
   "execution_count": 10,
   "id": "e163bb66",
   "metadata": {},
   "outputs": [
    {
     "name": "stdout",
     "output_type": "stream",
     "text": [
      "set_1 :  {1, 2, 3, 4, 5, 6, 7}\n",
      "set_2 :  {0, 1, 66, 3, 4, 7, 8}\n",
      "交集结果 :  {1, 3, 4, 7}\n"
     ]
    }
   ],
   "source": [
    "# 使用集合的方法：set_1.intersection(set_2)\n",
    "print(\"set_1 : \",set_1)\n",
    "print(\"set_2 : \",set_2)\n",
    "print(\"交集结果 : \",set_1.intersection(set_2))"
   ]
  },
  {
   "cell_type": "code",
   "execution_count": 11,
   "id": "c814f17c",
   "metadata": {},
   "outputs": [
    {
     "name": "stdout",
     "output_type": "stream",
     "text": [
      "set_1 :  {1, 2, 3, 4, 5, 6, 7}\n",
      "set_2 :  {0, 1, 66, 3, 4, 7, 8}\n",
      "交集结果 :  {1, 3, 4, 7}\n"
     ]
    }
   ],
   "source": [
    "# 使用逻辑运算符：set_1 & set_2\n",
    "print(\"set_1 : \",set_1)\n",
    "print(\"set_2 : \",set_2)\n",
    "print(\"交集结果 : \",set_1 & set_2)"
   ]
  },
  {
   "cell_type": "code",
   "execution_count": 12,
   "id": "9424214a",
   "metadata": {},
   "outputs": [
    {
     "name": "stdout",
     "output_type": "stream",
     "text": [
      "开始的时间 :  1642671867.7925627\n",
      "set_1 :  {1, 2, 3, 4, 5, 6, 7}\n",
      "set_2 :  {0, 1, 66, 3, 4, 7, 8}\n",
      "交集结果 :  {0, 1, 2, 3, 4, 5, 6, 7, 66, 8}\n",
      "结束的时间 :  1642671867.8005629\n",
      "运行的时间 :  0.00800013542175293\n"
     ]
    }
   ],
   "source": [
    "# 计算运行效率 = 运行后的时间节点 - 运行前的时间节点  : 思考并对比列表运算的执行效率 \n",
    "import time\n",
    "start_time = time.time()\n",
    "print(\"开始的时间 : \",start_time)\n",
    "print(\"set_1 : \",set_1)\n",
    "print(\"set_2 : \",set_2)\n",
    "print(\"交集结果 : \",set_1 | set_2)\n",
    "stop_time = time.time()\n",
    "print(\"结束的时间 : \",stop_time)\n",
    "print(\"运行的时间 : \", stop_time - start_time)"
   ]
  },
  {
   "cell_type": "code",
   "execution_count": null,
   "id": "f6a51aed",
   "metadata": {},
   "outputs": [],
   "source": []
  }
 ],
 "metadata": {
  "kernelspec": {
   "display_name": "Python 3",
   "language": "python",
   "name": "python3"
  },
  "language_info": {
   "codemirror_mode": {
    "name": "ipython",
    "version": 3
   },
   "file_extension": ".py",
   "mimetype": "text/x-python",
   "name": "python",
   "nbconvert_exporter": "python",
   "pygments_lexer": "ipython3",
   "version": "3.8.8"
  }
 },
 "nbformat": 4,
 "nbformat_minor": 5
}
