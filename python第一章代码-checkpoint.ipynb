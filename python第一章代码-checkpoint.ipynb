{
 "cells": [
  {
   "cell_type": "code",
   "execution_count": null,
   "id": "93bba83a",
   "metadata": {},
   "outputs": [],
   "source": [
    "#  课本代码（项目一，从奇数中选择对应的时间节点）
from datetime import datetime
odds = [1,3,5,7,9,11,13,15,17,19,21,23,25,27,29,31,33,35,37,39,41,43,45,47,49,51,53,55,57,59]
   # 从python基础库（标准库中）找到datetime
from datetime import datetime
  datetime.today()
  # 课本代码（项目一,从奇数中选择对应的时间节点）


odds = [1,3,5,7,9,11,13,15,17,119,21,23,25,27,29,31,33,35,37,39,41,43,45,47,49,51,53,55,57,59]

right_this_minute =datetime.today().minute

if right_this_minute in odds:
    print("时间是奇数，时间在odds的数据中")
else:
    print("Not an odd minute.")
2 + 2
"doesn't"
'doesn\'t'
姓名 = "keyin"
import time
time.time()
print (time,time())
time.sleep(2)
time.localtime"
   ]
  }
 ],
 "metadata": {
  "kernelspec": {
   "display_name": "Python 3",
   "language": "python",
   "name": "python3"
  },
  "language_info": {
   "codemirror_mode": {
    "name": "ipython",
    "version": 3
   },
   "file_extension": ".py",
   "mimetype": "text/x-python",
   "name": "python",
   "nbconvert_exporter": "python",
   "pygments_lexer": "ipython3",
   "version": "3.8.8"
  }
 },
 "nbformat": 4,
 "nbformat_minor": 5
}
