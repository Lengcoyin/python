{
 "cells": [
  {
   "cell_type": "markdown",
   "id": "3c05e30e",
   "metadata": {},
   "source": [
    "* 记录人：yy\n",
    "* "
   ]
  },
  {
   "cell_type": "markdown",
   "id": "af265aaa",
   "metadata": {},
   "source": [
    "# 上周回顾\n",
    "> 1. 函数的定义 ： def\n",
    "> 2. 函数名的定义规则-->变量名一样的规则\n",
    "> 3. 调用函数的方式\n",
    "> 4. 参数：\n",
    ">> 1. 形式参数（定义函数）\n",
    ">> 2. 实际参数（调用函数）\n",
    ">> 3. 有多个参数时：\n",
    ">>> 1. 关键字参数\n",
    ">>> 2. 位置参数（调用函数时）---> 关键字参数要均放在末尾（多个不考虑顺序）\n",
    ">>> 3. 默认参数（定义函数时）---> 默认参数均放在末尾（多个不考虑顺序）"
   ]
  },
  {
   "cell_type": "markdown",
   "id": "4b0a5890",
   "metadata": {},
   "source": [
    "# 本周知识\n",
    "> 1. \n",
    "> 2. \n",
    "> 3. 函数的返回参数类型\n",
    "> 4. 模块的概念\n",
    "> 5. 如何创建一个模块，并且调用函数"
   ]
  },
  {
   "cell_type": "markdown",
   "id": "eb625a40",
   "metadata": {},
   "source": [
    "## 1.函数的返回值\n",
    "> 1. 返回值关键字：return\n",
    ">> 1. 函数一定有返回值（无论是什么编程语言）\n",
    ">> 2. 在其他的编程语言中（如c语言，Java等），返回值一定要写，不写会报错！；对于python（更高级的语言），返回值\n",
    "\n",
    "f(x) = ax+b\n",
    "f(2) = 2a+b"
   ]
  },
  {
   "cell_type": "code",
   "execution_count": 1,
   "id": "cd077d13",
   "metadata": {},
   "outputs": [],
   "source": [
    "# 函数返回值实践1\n",
    "def get_formatted_name(first_name,last_name):\n",
    "    \"\"\"返回整洁的姓名\"\"\"\n",
    "    full_name = first_name + ''+ last_name\n",
    "#    print(full_name)\n",
    "    return full_name"
   ]
  },
  {
   "cell_type": "code",
   "execution_count": 2,
   "id": "d5adc5c0",
   "metadata": {},
   "outputs": [
    {
     "data": {
      "text/plain": [
       "'LiHua'"
      ]
     },
     "execution_count": 2,
     "metadata": {},
     "output_type": "execute_result"
    }
   ],
   "source": [
    "get_formatted_name(\"Li\",\"Hua\")"
   ]
  },
  {
   "cell_type": "code",
   "execution_count": 3,
   "id": "9b22f0dc",
   "metadata": {},
   "outputs": [
    {
     "name": "stdout",
     "output_type": "stream",
     "text": [
      "LiHua\n"
     ]
    }
   ],
   "source": [
    "print(get_formatted_name(\"Li\",\"Hua\"))"
   ]
  },
  {
   "cell_type": "code",
   "execution_count": 4,
   "id": "f908bd85",
   "metadata": {},
   "outputs": [],
   "source": [
    "# 函数返回值实践2\n",
    "def log_in(username,password):\n",
    "    \"\"\"验证登录信息\"\"\"\n",
    "    if username == \"Lihua\" and password ==123456:\n",
    "        return 1\n",
    "    else:\n",
    "        return 0"
   ]
  },
  {
   "cell_type": "code",
   "execution_count": 5,
   "id": "d20b3494",
   "metadata": {},
   "outputs": [
    {
     "data": {
      "text/plain": [
       "1"
      ]
     },
     "execution_count": 5,
     "metadata": {},
     "output_type": "execute_result"
    }
   ],
   "source": [
    "log_in(\"Lihua\",123456)"
   ]
  },
  {
   "cell_type": "markdown",
   "id": "ea8d9deb",
   "metadata": {},
   "source": [
    "## 2.函数的输入参数类型\n",
    "> 1.函数可以输入复杂的参数：\n",
    ">> 1. 函数参数为列表\n",
    ">> 2. 函数参数为字典\n",
    ">> 3. ..."
   ]
  },
  {
   "cell_type": "code",
   "execution_count": 6,
   "id": "71542fe1",
   "metadata": {},
   "outputs": [],
   "source": [
    "def test_A(names):\n",
    "    \"\"\"测试函数参数输入为列表\"\"\"\n",
    "    return names\n"
   ]
  },
  {
   "cell_type": "code",
   "execution_count": 7,
   "id": "d7298c8b",
   "metadata": {},
   "outputs": [
    {
     "data": {
      "text/plain": [
       "['Lihua', 'Alex', 'Ziqi']"
      ]
     },
     "execution_count": 7,
     "metadata": {},
     "output_type": "execute_result"
    }
   ],
   "source": [
    "test_A([\"Lihua\",\"Alex\",\"Ziqi\"])"
   ]
  },
  {
   "cell_type": "code",
   "execution_count": 8,
   "id": "b0619930",
   "metadata": {},
   "outputs": [],
   "source": [
    "def test_B(person):\n",
    "    \"\"\"测试函数参数输入为字典\"\"\"\n",
    "    return person"
   ]
  },
  {
   "cell_type": "code",
   "execution_count": 9,
   "id": "2f1c7cef",
   "metadata": {},
   "outputs": [
    {
     "data": {
      "text/plain": [
       "{'stud_id': 210001, 'age': 18, 'Job': 'student'}"
      ]
     },
     "execution_count": 9,
     "metadata": {},
     "output_type": "execute_result"
    }
   ],
   "source": [
    "test_B({\"stud_id\":210001,\"age\":18,\"Job\":\"student\"})"
   ]
  },
  {
   "cell_type": "markdown",
   "id": "f9b961d9",
   "metadata": {},
   "source": [
    "> 2. 函数可以输入不确定个数的参数：\n",
    ">> 1. *args\n",
    ">>> 1. args 可以接受多个数据（单值）\n",
    ">>> 2. args 将多个数据存在一个**元组**当中，实际还是一个变量\n",
    ">> 2. ** kwargs\n",
    ">>> 1. kwargs 可以接受多个数据（键值对）==>关键字参数\n",
    ">>> 2. kwargs 将多个 键值对 的数据存放在一个 **字典** 中，实际上还是一个变量"
   ]
  },
  {
   "cell_type": "code",
   "execution_count": 10,
   "id": "2fc84936",
   "metadata": {},
   "outputs": [],
   "source": [
    "def food_ingred(food,*ingreds):\n",
    "    \"\"\"食物配料单\"\"\"\n",
    "    return food,ingreds"
   ]
  },
  {
   "cell_type": "code",
   "execution_count": 11,
   "id": "38f98ed1",
   "metadata": {},
   "outputs": [
    {
     "data": {
      "text/plain": [
       "('pizza', ('mushroom', 'green peppers', 'extra cheese'))"
      ]
     },
     "execution_count": 11,
     "metadata": {},
     "output_type": "execute_result"
    }
   ],
   "source": [
    "food_ingred(\"pizza\",\"mushroom\",\"green peppers\",\"extra cheese\")"
   ]
  },
  {
   "cell_type": "code",
   "execution_count": 12,
   "id": "da82b598",
   "metadata": {},
   "outputs": [],
   "source": [
    "def person(stud_name,**stud_course):\n",
    "    \"\"\"学生个人信息完善表\"\"\"\n",
    "    return stud_name,stud_course"
   ]
  },
  {
   "cell_type": "code",
   "execution_count": null,
   "id": "2b69a2b3",
   "metadata": {},
   "outputs": [],
   "source": [
    "person (\"Lihua\",course_星期一)"
   ]
  },
  {
   "cell_type": "code",
   "execution_count": null,
   "id": "05fb4b36",
   "metadata": {},
   "outputs": [],
   "source": []
  },
  {
   "cell_type": "markdown",
   "id": "1aab5446",
   "metadata": {},
   "source": [
    "## 3.函数的输出（返回值）参数类型\n",
    "\n",
    "> 1. 在编程语言中，函数的返回值\n",
    "> 2. 返回值可以是 字符串、数值、列表、字典等数据（单一值）\n",
    "> 3. python可以输出多个返回值，结果会用一个元组进行封装并返回。（本质不违背函数的定义）"
   ]
  },
  {
   "cell_type": "code",
   "execution_count": 1,
   "id": "4c925649",
   "metadata": {},
   "outputs": [],
   "source": [
    "def test1_return():\n",
    "    \"\"\"测试返回值return为字符串\"\"\"\n",
    "    return \"你好\""
   ]
  },
  {
   "cell_type": "code",
   "execution_count": 2,
   "id": "b77ea981",
   "metadata": {},
   "outputs": [
    {
     "data": {
      "text/plain": [
       "'你好'"
      ]
     },
     "execution_count": 2,
     "metadata": {},
     "output_type": "execute_result"
    }
   ],
   "source": [
    "test1_return()"
   ]
  },
  {
   "cell_type": "code",
   "execution_count": 3,
   "id": "dd46f331",
   "metadata": {},
   "outputs": [],
   "source": [
    "def test2_return():\n",
    "    \"\"\"测试返回值return为数值\"\"\"\n",
    "    return 12345"
   ]
  },
  {
   "cell_type": "code",
   "execution_count": 4,
   "id": "8c131d83",
   "metadata": {},
   "outputs": [
    {
     "data": {
      "text/plain": [
       "12345"
      ]
     },
     "execution_count": 4,
     "metadata": {},
     "output_type": "execute_result"
    }
   ],
   "source": [
    "test2_return()"
   ]
  },
  {
   "cell_type": "markdown",
   "id": "1548addc",
   "metadata": {},
   "source": [
    "## 4.模块\n",
    "> 1. 使用模块可以隐藏函数的源代码\n",
    "> 2. 使用的人不需要会底层代码（只需要会使用模块即可）\n",
    "> 3. 模块的使用的方法：\n",
    ">> 1. import 模块名\n",
    "* 使用： 模块名.函数名()\n",
    ">> 2. from 模块名 import 函数名\n",
    "* 使用： 函数名()"
   ]
  },
  {
   "cell_type": "code",
   "execution_count": 5,
   "id": "08bd1427",
   "metadata": {},
   "outputs": [],
   "source": [
    "import time"
   ]
  },
  {
   "cell_type": "code",
   "execution_count": 6,
   "id": "013046aa",
   "metadata": {},
   "outputs": [
    {
     "data": {
      "text/plain": [
       "time.struct_time(tm_year=2022, tm_mon=1, tm_mday=20, tm_hour=17, tm_min=53, tm_sec=44, tm_wday=3, tm_yday=20, tm_isdst=0)"
      ]
     },
     "execution_count": 6,
     "metadata": {},
     "output_type": "execute_result"
    }
   ],
   "source": [
    "time.localtime()"
   ]
  },
  {
   "cell_type": "code",
   "execution_count": 7,
   "id": "2cab65c8",
   "metadata": {},
   "outputs": [],
   "source": [
    "from time import localtime"
   ]
  },
  {
   "cell_type": "code",
   "execution_count": 8,
   "id": "c3edd261",
   "metadata": {},
   "outputs": [
    {
     "data": {
      "text/plain": [
       "time.struct_time(tm_year=2022, tm_mon=1, tm_mday=20, tm_hour=17, tm_min=54, tm_sec=4, tm_wday=3, tm_yday=20, tm_isdst=0)"
      ]
     },
     "execution_count": 8,
     "metadata": {},
     "output_type": "execute_result"
    }
   ],
   "source": [
    "localtime()"
   ]
  },
  {
   "cell_type": "code",
   "execution_count": 9,
   "id": "55320755",
   "metadata": {},
   "outputs": [],
   "source": [
    "import study"
   ]
  },
  {
   "cell_type": "code",
   "execution_count": 10,
   "id": "5c8a93a1",
   "metadata": {},
   "outputs": [
    {
     "data": {
      "text/plain": [
       "{'a', 'e', 'i', 'o'}"
      ]
     },
     "execution_count": 10,
     "metadata": {},
     "output_type": "execute_result"
    }
   ],
   "source": [
    "# 函数的调用\n",
    "study.search4vowels(\"hello zhichao\")"
   ]
  },
  {
   "cell_type": "code",
   "execution_count": 11,
   "id": "026dde07",
   "metadata": {},
   "outputs": [
    {
     "ename": "AttributeError",
     "evalue": "module 'study' has no attribute 'news_链接'",
     "output_type": "error",
     "traceback": [
      "\u001b[1;31m---------------------------------------------------------------------------\u001b[0m",
      "\u001b[1;31mAttributeError\u001b[0m                            Traceback (most recent call last)",
      "\u001b[1;32m<ipython-input-11-7c00a969a59c>\u001b[0m in \u001b[0;36m<module>\u001b[1;34m\u001b[0m\n\u001b[1;32m----> 1\u001b[1;33m \u001b[0mhelp\u001b[0m\u001b[1;33m(\u001b[0m\u001b[0mstudy\u001b[0m\u001b[1;33m.\u001b[0m\u001b[0mnews_链接\u001b[0m\u001b[1;33m)\u001b[0m\u001b[1;33m\u001b[0m\u001b[1;33m\u001b[0m\u001b[0m\n\u001b[0m",
      "\u001b[1;31mAttributeError\u001b[0m: module 'study' has no attribute 'news_链接'"
     ]
    }
   ],
   "source": [
    "help(study.news_链接)"
   ]
  },
  {
   "cell_type": "code",
   "execution_count": null,
   "id": "8b21f1e5",
   "metadata": {},
   "outputs": [],
   "source": []
  }
 ],
 "metadata": {
  "kernelspec": {
   "display_name": "Python 3",
   "language": "python",
   "name": "python3"
  },
  "language_info": {
   "codemirror_mode": {
    "name": "ipython",
    "version": 3
   },
   "file_extension": ".py",
   "mimetype": "text/x-python",
   "name": "python",
   "nbconvert_exporter": "python",
   "pygments_lexer": "ipython3",
   "version": "3.8.8"
  }
 },
 "nbformat": 4,
 "nbformat_minor": 5
}
