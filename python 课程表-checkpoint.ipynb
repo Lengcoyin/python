{
 "cells": [
  {
   "cell_type": "code",
   "execution_count": 2,
   "id": "cf8af3da",
   "metadata": {},
   "outputs": [
    {
     "name": "stdout",
     "output_type": "stream",
     "text": [
      "yy课程表\n",
      "1\n",
      "星期二有两节课\n",
      "8-9新媒体时代的新闻评论\n",
      "12-13毛概理论\n",
      "FINISH\n"
     ]
    }
   ],
   "source": [
    "print(\"yy课程表\")\n",
    "import datetime\n",
    "time = datetime.datetime.today().weekday()\n",
    "week_time = int(time)\n",
    "print(week_time)\n",
    "if week_time==0:\n",
    "    print(\"星期一有三节课\");print(\"1-3乒乓球\");print(\"6-7写作训练\");print(\"8-9大英\")\n",
    "elif week_time==1:\n",
    "    print(\"星期二有两节课\");print(\"8-9新媒体时代的新闻评论\");print(\"12-13毛概理论\")\n",
    "elif week_time==2:\n",
    "    print(\"星期三有两节课\");print(\"1-2大英\");print(\"3-5融合新闻学\")\n",
    "elif week_time==3:\n",
    "    print(\"星期四有两节课\");print(\"4-5python语言\");print(\"8-9毛概实践\")\n",
    "elif week_time==4:\n",
    "    print(\"星期五有一节课\");print(\"3-5创业基础实践\")\n",
    "else:\n",
    "    print(\"美美过个周末\")\n",
    "print(\"FINISH\")"
   ]
  },
  {
   "cell_type": "code",
   "execution_count": null,
   "id": "310fd3e1",
   "metadata": {},
   "outputs": [],
   "source": []
  }
 ],
 "metadata": {
  "kernelspec": {
   "display_name": "Python 3",
   "language": "python",
   "name": "python3"
  },
  "language_info": {
   "codemirror_mode": {
    "name": "ipython",
    "version": 3
   },
   "file_extension": ".py",
   "mimetype": "text/x-python",
   "name": "python",
   "nbconvert_exporter": "python",
   "pygments_lexer": "ipython3",
   "version": "3.8.8"
  },
  "toc": {
   "base_numbering": 1,
   "nav_menu": {},
   "number_sections": true,
   "sideBar": true,
   "skip_h1_title": false,
   "title_cell": "Table of Contents",
   "title_sidebar": "Contents",
   "toc_cell": false,
   "toc_position": {},
   "toc_section_display": true,
   "toc_window_display": false
  }
 },
 "nbformat": 4,
 "nbformat_minor": 5
}
