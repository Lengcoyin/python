{
 "cells": [
  {
   "cell_type": "markdown",
   "id": "418ef176",
   "metadata": {},
   "source": [
    "# 1.购物车项目详解"
   ]
  },
  {
   "cell_type": "markdown",
   "id": "28316f82",
   "metadata": {},
   "source": [
    "```\n",
    "购物车程序项目：\n",
    "\n",
    "　　要求：1、运行程序后，让用户输入支付宝余额，然后打印我们的商品列表给用户。\n",
    "\n",
    "　　   　　2、让用户输入商品编号进行商品的购买。\n",
    "\n",
    "　　  　　 3、用户选择商品后，检查用户的余额是否够，若够则直接扣款，不够则提醒用户。\n",
    "\n",
    "　　　　   4、用户可以随时退出购买，推出时打印用户已购买的商品和支付宝余额。\n",
    " ```"
   ]
  },
  {
   "cell_type": "code",
   "execution_count": 1,
   "id": "0c54c0c4",
   "metadata": {},
   "outputs": [
    {
     "name": "stdout",
     "output_type": "stream",
     "text": [
      "请输入您的余额：88\n",
      "-------商品列表信息-------\n",
      "商品编号：0，商品的名称: 珍珠奶茶，商品的价格：7 元 \n",
      "商品编号：1，商品的名称: 大杯珍珠奶茶，商品的价格：8.5 元 \n",
      "商品编号：2，商品的名称: 加大杯珍珠奶茶，商品的价格：9.5 元 \n",
      "商品编号：3，商品的名称: 桶装珍珠奶茶，商品的价格：20 元 \n",
      "请输入正确的商品编号进行购买(如果退出请输入“q”)：0\n",
      "【珍珠奶茶】已经加入您的购物车，您的【余额】还有 81 元\n",
      "-------商品列表信息-------\n",
      "商品编号：0，商品的名称: 珍珠奶茶，商品的价格：7 元 \n",
      "商品编号：1，商品的名称: 大杯珍珠奶茶，商品的价格：8.5 元 \n",
      "商品编号：2，商品的名称: 加大杯珍珠奶茶，商品的价格：9.5 元 \n",
      "商品编号：3，商品的名称: 桶装珍珠奶茶，商品的价格：20 元 \n",
      "请输入正确的商品编号进行购买(如果退出请输入“q”)：1\n",
      "【大杯珍珠奶茶】已经加入您的购物车，您的【余额】还有 72.5 元\n",
      "-------商品列表信息-------\n",
      "商品编号：0，商品的名称: 珍珠奶茶，商品的价格：7 元 \n",
      "商品编号：1，商品的名称: 大杯珍珠奶茶，商品的价格：8.5 元 \n",
      "商品编号：2，商品的名称: 加大杯珍珠奶茶，商品的价格：9.5 元 \n",
      "商品编号：3，商品的名称: 桶装珍珠奶茶，商品的价格：20 元 \n",
      "请输入正确的商品编号进行购买(如果退出请输入“q”)：2\n",
      "【加大杯珍珠奶茶】已经加入您的购物车，您的【余额】还有 63.0 元\n",
      "-------商品列表信息-------\n",
      "商品编号：0，商品的名称: 珍珠奶茶，商品的价格：7 元 \n",
      "商品编号：1，商品的名称: 大杯珍珠奶茶，商品的价格：8.5 元 \n",
      "商品编号：2，商品的名称: 加大杯珍珠奶茶，商品的价格：9.5 元 \n",
      "商品编号：3，商品的名称: 桶装珍珠奶茶，商品的价格：20 元 \n",
      "请输入正确的商品编号进行购买(如果退出请输入“q”)：3\n",
      "【桶装珍珠奶茶】已经加入您的购物车，您的【余额】还有 43.0 元\n",
      "-------商品列表信息-------\n",
      "商品编号：0，商品的名称: 珍珠奶茶，商品的价格：7 元 \n",
      "商品编号：1，商品的名称: 大杯珍珠奶茶，商品的价格：8.5 元 \n",
      "商品编号：2，商品的名称: 加大杯珍珠奶茶，商品的价格：9.5 元 \n",
      "商品编号：3，商品的名称: 桶装珍珠奶茶，商品的价格：20 元 \n",
      "请输入正确的商品编号进行购买(如果退出请输入“q”)：q\n",
      "您的购物车： [['珍珠奶茶', 7], ['大杯珍珠奶茶', 8.5], ['加大杯珍珠奶茶', 9.5], ['桶装珍珠奶茶', 20]] \n",
      " 您的账户余额：43.0 元\n"
     ]
    }
   ],
   "source": [
    "# 1、运行程序后，让用户输入支付宝余额，然后打印我们的商品列表给用户。\n",
    "# 商品列表数据\n",
    "goods_list = [\n",
    "    # 商品的样式： [商品名称 ,商品价格],\n",
    "    ['珍珠奶茶',7],\n",
    "    ['大杯珍珠奶茶',8.5],\n",
    "    ['加大杯珍珠奶茶',9.5],\n",
    "    ['桶装珍珠奶茶',20]\n",
    "]\n",
    "# 写到某一步，发现前面需要内容。可以优化增加\n",
    "user_shopping_cart = [] # 用户列表初始为空，后续用  append  进行增加\n",
    "\n",
    "# 用户输入：input\n",
    "Alipay = int(input(\"请输入您的余额：\"))\n",
    "\n",
    "# 打印商品信息，打印商品的次数是由商品列表的长度决定的（len(goods_list)）\n",
    "while True: # 将实现 过程 的循环\n",
    "    print(\"-------商品列表信息-------\")\n",
    "    for i in range(len(goods_list)):\n",
    "        #　给格式化的样式（先给）\n",
    "        # 样式（不懂代码的人可以完成的工作） \n",
    "        #    ：\"商品编号：xx，商品的名称: xx，商品的价格：xx \"\n",
    "        print(\"商品编号：%s，商品的名称: %s，商品的价格：%s 元 \"%(i,goods_list[i][0],goods_list[i][1]))\n",
    "    # 2、让用户输入商品编号进行商品的购买。\n",
    "    # 用户输入商品编号\n",
    "    choice = input(\"请输入正确的商品编号进行购买(如果退出请输入“q”)：\") # \"36\"\n",
    "    if choice.isdigit(): # isdigit 判断字符串是否是数值\n",
    "        choice = int(choice) # 如果是数值，把它变成真正的 int\n",
    "        # 判断商品编号是否在 我们的范围内\n",
    "        if choice >= len(goods_list):\n",
    "            print(\"【您输入的商品不存在，请检查再次输入~】\")\n",
    "        else:\n",
    "            # 对比商品编号，找到对应商品：商品价格：goods_list[choice][1]，\n",
    "            # 1. 检查用户余额 VS 商品价格关系\n",
    "            if Alipay > goods_list[choice][1]:\n",
    "                # 买得起 1. 扣钱，2. 把商品加到用户购物列表\n",
    "                Alipay = Alipay - goods_list[choice][1]\n",
    "                user_shopping_cart.append(goods_list[choice])\n",
    "                print(\"【%s】已经加入您的购物车，您的【余额】还有 %s 元\"%(goods_list[choice][0],Alipay))\n",
    "            else:\n",
    "                print(\"您的余额不足以购买，请更换支付方式\")\n",
    "    elif choice == \"q\":\n",
    "        # 如果用户输入q 则说明用户要退出购买了，我们将打印用户已购买的商品列表 以及 用户余额\n",
    "        print(\"您的购物车：\",user_shopping_cart,'\\n',\"您的账户余额：%s 元\"%(Alipay))\n",
    "        break\n",
    "    else:\n",
    "        print(\"请输入正确的【商品编码】！！或者按照输入提示进行输入\")"
   ]
  },
  {
   "cell_type": "markdown",
   "id": "727c9e1b",
   "metadata": {},
   "source": [
    "# 2.元组_字典"
   ]
  },
  {
   "cell_type": "markdown",
   "id": "1a480c4c",
   "metadata": {},
   "source": [
    "## 元组(tuple)\n",
    "\n",
    "* [元组](https://docs.python.org/3/tutorial/datastructures.html#tuples-and-sequences)\n",
    "> 1. 它是和list几乎完全一样的序列数据\n",
    "> 2. 它与list不同的地方是，**不可变**（因为不可变，所以几乎没有方法）\n",
    "> 3. 元组的形式： (1,2,34,5) 对比 元组()  列表[]"
   ]
  },
  {
   "cell_type": "code",
   "execution_count": 2,
   "id": "05ccb786",
   "metadata": {},
   "outputs": [
    {
     "name": "stdout",
     "output_type": "stream",
     "text": [
      "('10001', '10002', '10003', '10001') <class 'tuple'>\n"
     ]
    }
   ],
   "source": [
    "stu_id = \"10001\",\"10002\",\"10003\",\"10001\"\n",
    "print(stu_id,type(stu_id))"
   ]
  },
  {
   "cell_type": "code",
   "execution_count": 3,
   "id": "fe1b960c",
   "metadata": {},
   "outputs": [
    {
     "data": {
      "text/plain": [
       "2"
      ]
     },
     "execution_count": 3,
     "metadata": {},
     "output_type": "execute_result"
    }
   ],
   "source": [
    "stu_id.count(\"10001\")"
   ]
  },
  {
   "cell_type": "code",
   "execution_count": 4,
   "id": "d4cd2bd1",
   "metadata": {},
   "outputs": [
    {
     "data": {
      "text/plain": [
       "1"
      ]
     },
     "execution_count": 4,
     "metadata": {},
     "output_type": "execute_result"
    }
   ],
   "source": [
    "stu_id.index(\"10002\")"
   ]
  },
  {
   "cell_type": "code",
   "execution_count": 6,
   "id": "61c34b01",
   "metadata": {},
   "outputs": [],
   "source": [
    "import time"
   ]
  },
  {
   "cell_type": "code",
   "execution_count": 7,
   "id": "6db371dc",
   "metadata": {},
   "outputs": [
    {
     "data": {
      "text/plain": [
       "time.struct_time(tm_year=2021, tm_mon=11, tm_mday=2, tm_hour=10, tm_min=51, tm_sec=31, tm_wday=1, tm_yday=306, tm_isdst=0)"
      ]
     },
     "execution_count": 7,
     "metadata": {},
     "output_type": "execute_result"
    }
   ],
   "source": [
    "time.localtime()"
   ]
  },
  {
   "cell_type": "code",
   "execution_count": 8,
   "id": "9dd31923",
   "metadata": {},
   "outputs": [
    {
     "name": "stdout",
     "output_type": "stream",
     "text": [
      "Help on built-in module time:\n",
      "\n",
      "NAME\n",
      "    time - This module provides various functions to manipulate time values.\n",
      "\n",
      "DESCRIPTION\n",
      "    There are two standard representations of time.  One is the number\n",
      "    of seconds since the Epoch, in UTC (a.k.a. GMT).  It may be an integer\n",
      "    or a floating point number (to represent fractions of seconds).\n",
      "    The Epoch is system-defined; on Unix, it is generally January 1st, 1970.\n",
      "    The actual value can be retrieved by calling gmtime(0).\n",
      "    \n",
      "    The other representation is a tuple of 9 integers giving local time.\n",
      "    The tuple items are:\n",
      "      year (including century, e.g. 1998)\n",
      "      month (1-12)\n",
      "      day (1-31)\n",
      "      hours (0-23)\n",
      "      minutes (0-59)\n",
      "      seconds (0-59)\n",
      "      weekday (0-6, Monday is 0)\n",
      "      Julian day (day in the year, 1-366)\n",
      "      DST (Daylight Savings Time) flag (-1, 0 or 1)\n",
      "    If the DST flag is 0, the time is given in the regular time zone;\n",
      "    if it is 1, the time is given in the DST time zone;\n",
      "    if it is -1, mktime() should guess based on the date and time.\n",
      "\n",
      "CLASSES\n",
      "    builtins.tuple(builtins.object)\n",
      "        struct_time\n",
      "    \n",
      "    class struct_time(builtins.tuple)\n",
      "     |  struct_time(iterable=(), /)\n",
      "     |  \n",
      "     |  The time value as returned by gmtime(), localtime(), and strptime(), and\n",
      "     |  accepted by asctime(), mktime() and strftime().  May be considered as a\n",
      "     |  sequence of 9 integers.\n",
      "     |  \n",
      "     |  Note that several fields' values are not the same as those defined by\n",
      "     |  the C language standard for struct tm.  For example, the value of the\n",
      "     |  field tm_year is the actual year, not year - 1900.  See individual\n",
      "     |  fields' descriptions for details.\n",
      "     |  \n",
      "     |  Method resolution order:\n",
      "     |      struct_time\n",
      "     |      builtins.tuple\n",
      "     |      builtins.object\n",
      "     |  \n",
      "     |  Methods defined here:\n",
      "     |  \n",
      "     |  __reduce__(...)\n",
      "     |      Helper for pickle.\n",
      "     |  \n",
      "     |  __repr__(self, /)\n",
      "     |      Return repr(self).\n",
      "     |  \n",
      "     |  ----------------------------------------------------------------------\n",
      "     |  Static methods defined here:\n",
      "     |  \n",
      "     |  __new__(*args, **kwargs) from builtins.type\n",
      "     |      Create and return a new object.  See help(type) for accurate signature.\n",
      "     |  \n",
      "     |  ----------------------------------------------------------------------\n",
      "     |  Data descriptors defined here:\n",
      "     |  \n",
      "     |  tm_gmtoff\n",
      "     |      offset from UTC in seconds\n",
      "     |  \n",
      "     |  tm_hour\n",
      "     |      hours, range [0, 23]\n",
      "     |  \n",
      "     |  tm_isdst\n",
      "     |      1 if summer time is in effect, 0 if not, and -1 if unknown\n",
      "     |  \n",
      "     |  tm_mday\n",
      "     |      day of month, range [1, 31]\n",
      "     |  \n",
      "     |  tm_min\n",
      "     |      minutes, range [0, 59]\n",
      "     |  \n",
      "     |  tm_mon\n",
      "     |      month of year, range [1, 12]\n",
      "     |  \n",
      "     |  tm_sec\n",
      "     |      seconds, range [0, 61])\n",
      "     |  \n",
      "     |  tm_wday\n",
      "     |      day of week, range [0, 6], Monday is 0\n",
      "     |  \n",
      "     |  tm_yday\n",
      "     |      day of year, range [1, 366]\n",
      "     |  \n",
      "     |  tm_year\n",
      "     |      year, for example, 1993\n",
      "     |  \n",
      "     |  tm_zone\n",
      "     |      abbreviation of timezone name\n",
      "     |  \n",
      "     |  ----------------------------------------------------------------------\n",
      "     |  Data and other attributes defined here:\n",
      "     |  \n",
      "     |  n_fields = 11\n",
      "     |  \n",
      "     |  n_sequence_fields = 9\n",
      "     |  \n",
      "     |  n_unnamed_fields = 0\n",
      "     |  \n",
      "     |  ----------------------------------------------------------------------\n",
      "     |  Methods inherited from builtins.tuple:\n",
      "     |  \n",
      "     |  __add__(self, value, /)\n",
      "     |      Return self+value.\n",
      "     |  \n",
      "     |  __contains__(self, key, /)\n",
      "     |      Return key in self.\n",
      "     |  \n",
      "     |  __eq__(self, value, /)\n",
      "     |      Return self==value.\n",
      "     |  \n",
      "     |  __ge__(self, value, /)\n",
      "     |      Return self>=value.\n",
      "     |  \n",
      "     |  __getattribute__(self, name, /)\n",
      "     |      Return getattr(self, name).\n",
      "     |  \n",
      "     |  __getitem__(self, key, /)\n",
      "     |      Return self[key].\n",
      "     |  \n",
      "     |  __getnewargs__(self, /)\n",
      "     |  \n",
      "     |  __gt__(self, value, /)\n",
      "     |      Return self>value.\n",
      "     |  \n",
      "     |  __hash__(self, /)\n",
      "     |      Return hash(self).\n",
      "     |  \n",
      "     |  __iter__(self, /)\n",
      "     |      Implement iter(self).\n",
      "     |  \n",
      "     |  __le__(self, value, /)\n",
      "     |      Return self<=value.\n",
      "     |  \n",
      "     |  __len__(self, /)\n",
      "     |      Return len(self).\n",
      "     |  \n",
      "     |  __lt__(self, value, /)\n",
      "     |      Return self<value.\n",
      "     |  \n",
      "     |  __mul__(self, value, /)\n",
      "     |      Return self*value.\n",
      "     |  \n",
      "     |  __ne__(self, value, /)\n",
      "     |      Return self!=value.\n",
      "     |  \n",
      "     |  __rmul__(self, value, /)\n",
      "     |      Return value*self.\n",
      "     |  \n",
      "     |  count(self, value, /)\n",
      "     |      Return number of occurrences of value.\n",
      "     |  \n",
      "     |  index(self, value, start=0, stop=9223372036854775807, /)\n",
      "     |      Return first index of value.\n",
      "     |      \n",
      "     |      Raises ValueError if the value is not present.\n",
      "\n",
      "FUNCTIONS\n",
      "    asctime(...)\n",
      "        asctime([tuple]) -> string\n",
      "        \n",
      "        Convert a time tuple to a string, e.g. 'Sat Jun 06 16:26:11 1998'.\n",
      "        When the time tuple is not present, current time as returned by localtime()\n",
      "        is used.\n",
      "    \n",
      "    ctime(...)\n",
      "        ctime(seconds) -> string\n",
      "        \n",
      "        Convert a time in seconds since the Epoch to a string in local time.\n",
      "        This is equivalent to asctime(localtime(seconds)). When the time tuple is\n",
      "        not present, current time as returned by localtime() is used.\n",
      "    \n",
      "    get_clock_info(...)\n",
      "        get_clock_info(name: str) -> dict\n",
      "        \n",
      "        Get information of the specified clock.\n",
      "    \n",
      "    gmtime(...)\n",
      "        gmtime([seconds]) -> (tm_year, tm_mon, tm_mday, tm_hour, tm_min,\n",
      "                               tm_sec, tm_wday, tm_yday, tm_isdst)\n",
      "        \n",
      "        Convert seconds since the Epoch to a time tuple expressing UTC (a.k.a.\n",
      "        GMT).  When 'seconds' is not passed in, convert the current time instead.\n",
      "        \n",
      "        If the platform supports the tm_gmtoff and tm_zone, they are available as\n",
      "        attributes only.\n",
      "    \n",
      "    localtime(...)\n",
      "        localtime([seconds]) -> (tm_year,tm_mon,tm_mday,tm_hour,tm_min,\n",
      "                                  tm_sec,tm_wday,tm_yday,tm_isdst)\n",
      "        \n",
      "        Convert seconds since the Epoch to a time tuple expressing local time.\n",
      "        When 'seconds' is not passed in, convert the current time instead.\n",
      "    \n",
      "    mktime(...)\n",
      "        mktime(tuple) -> floating point number\n",
      "        \n",
      "        Convert a time tuple in local time to seconds since the Epoch.\n",
      "        Note that mktime(gmtime(0)) will not generally return zero for most\n",
      "        time zones; instead the returned value will either be equal to that\n",
      "        of the timezone or altzone attributes on the time module.\n",
      "    \n",
      "    monotonic(...)\n",
      "        monotonic() -> float\n",
      "        \n",
      "        Monotonic clock, cannot go backward.\n",
      "    \n",
      "    monotonic_ns(...)\n",
      "        monotonic_ns() -> int\n",
      "        \n",
      "        Monotonic clock, cannot go backward, as nanoseconds.\n",
      "    \n",
      "    perf_counter(...)\n",
      "        perf_counter() -> float\n",
      "        \n",
      "        Performance counter for benchmarking.\n",
      "    \n",
      "    perf_counter_ns(...)\n",
      "        perf_counter_ns() -> int\n",
      "        \n",
      "        Performance counter for benchmarking as nanoseconds.\n",
      "    \n",
      "    process_time(...)\n",
      "        process_time() -> float\n",
      "        \n",
      "        Process time for profiling: sum of the kernel and user-space CPU time.\n",
      "    \n",
      "    process_time_ns(...)\n",
      "        process_time() -> int\n",
      "        \n",
      "        Process time for profiling as nanoseconds:\n",
      "        sum of the kernel and user-space CPU time.\n",
      "    \n",
      "    sleep(...)\n",
      "        sleep(seconds)\n",
      "        \n",
      "        Delay execution for a given number of seconds.  The argument may be\n",
      "        a floating point number for subsecond precision.\n",
      "    \n",
      "    strftime(...)\n",
      "        strftime(format[, tuple]) -> string\n",
      "        \n",
      "        Convert a time tuple to a string according to a format specification.\n",
      "        See the library reference manual for formatting codes. When the time tuple\n",
      "        is not present, current time as returned by localtime() is used.\n",
      "        \n",
      "        Commonly used format codes:\n",
      "        \n",
      "        %Y  Year with century as a decimal number.\n",
      "        %m  Month as a decimal number [01,12].\n",
      "        %d  Day of the month as a decimal number [01,31].\n",
      "        %H  Hour (24-hour clock) as a decimal number [00,23].\n",
      "        %M  Minute as a decimal number [00,59].\n",
      "        %S  Second as a decimal number [00,61].\n",
      "        %z  Time zone offset from UTC.\n",
      "        %a  Locale's abbreviated weekday name.\n",
      "        %A  Locale's full weekday name.\n",
      "        %b  Locale's abbreviated month name.\n",
      "        %B  Locale's full month name.\n",
      "        %c  Locale's appropriate date and time representation.\n",
      "        %I  Hour (12-hour clock) as a decimal number [01,12].\n",
      "        %p  Locale's equivalent of either AM or PM.\n",
      "        \n",
      "        Other codes may be available on your platform.  See documentation for\n",
      "        the C library strftime function.\n",
      "    \n",
      "    strptime(...)\n",
      "        strptime(string, format) -> struct_time\n",
      "        \n",
      "        Parse a string to a time tuple according to a format specification.\n",
      "        See the library reference manual for formatting codes (same as\n",
      "        strftime()).\n",
      "        \n",
      "        Commonly used format codes:\n",
      "        \n",
      "        %Y  Year with century as a decimal number.\n",
      "        %m  Month as a decimal number [01,12].\n",
      "        %d  Day of the month as a decimal number [01,31].\n",
      "        %H  Hour (24-hour clock) as a decimal number [00,23].\n",
      "        %M  Minute as a decimal number [00,59].\n",
      "        %S  Second as a decimal number [00,61].\n",
      "        %z  Time zone offset from UTC.\n",
      "        %a  Locale's abbreviated weekday name.\n",
      "        %A  Locale's full weekday name.\n",
      "        %b  Locale's abbreviated month name.\n",
      "        %B  Locale's full month name.\n",
      "        %c  Locale's appropriate date and time representation.\n",
      "        %I  Hour (12-hour clock) as a decimal number [01,12].\n",
      "        %p  Locale's equivalent of either AM or PM.\n",
      "        \n",
      "        Other codes may be available on your platform.  See documentation for\n",
      "        the C library strftime function.\n",
      "    \n",
      "    thread_time(...)\n",
      "        thread_time() -> float\n",
      "        \n",
      "        Thread time for profiling: sum of the kernel and user-space CPU time.\n",
      "    \n",
      "    thread_time_ns(...)\n",
      "        thread_time() -> int\n",
      "        \n",
      "        Thread time for profiling as nanoseconds:\n",
      "        sum of the kernel and user-space CPU time.\n",
      "    \n",
      "    time(...)\n",
      "        time() -> floating point number\n",
      "        \n",
      "        Return the current time in seconds since the Epoch.\n",
      "        Fractions of a second may be present if the system clock provides them.\n",
      "    \n",
      "    time_ns(...)\n",
      "        time_ns() -> int\n",
      "        \n",
      "        Return the current time in nanoseconds since the Epoch.\n",
      "\n",
      "DATA\n",
      "    altzone = -32400\n",
      "    daylight = 0\n",
      "    timezone = -28800\n",
      "    tzname = ('中国标准时间', '中国夏令时')\n",
      "\n",
      "FILE\n",
      "    (built-in)\n",
      "\n",
      "\n"
     ]
    }
   ],
   "source": [
    "help(time)"
   ]
  },
  {
   "cell_type": "markdown",
   "id": "af547a8d",
   "metadata": {},
   "source": [
    "## 字典\n",
    "\n",
    "> 1.创建字典的三种常见的方法\n",
    ">> 1. 直接按照字典的格式创建 ： {key1:value1 ,key2:value2 ,.... }\n",
    ">> 2. dict()函数来创建字典： dict(key1=value1,key2=value2, ......)\n",
    ">> 3. 字典数据增加的方式：新建空字典 dict_name ={} ，dict_name[key1]=value1 ...\n",
    "> 2. 字典的性质"
   ]
  },
  {
   "cell_type": "code",
   "execution_count": 9,
   "id": "c0b50075",
   "metadata": {},
   "outputs": [
    {
     "data": {
      "text/plain": [
       "{'stud_10001': 'Alex', 'stud_10002': 'Jack', 'stud_10003': 'Marry'}"
      ]
     },
     "execution_count": 9,
     "metadata": {},
     "output_type": "execute_result"
    }
   ],
   "source": [
    "# 1. 直接按照字典的格式创建 ： {key1:value1 ,key2:value2 ,.... }\n",
    "stud_info =  {\n",
    "    \"stud_10001\":\"Alex\", # :：（）() ,，【[] \n",
    "    \"stud_10002\":\"Jack\",\n",
    "    \"stud_10003\":\"Marry\"\n",
    "}\n",
    "stud_info"
   ]
  },
  {
   "cell_type": "code",
   "execution_count": 10,
   "id": "703ed8c4",
   "metadata": {},
   "outputs": [
    {
     "data": {
      "text/plain": [
       "{'stud_10001': 'Alex', 'stud_10002': 'Jack', 'stud_10003': 'Marry'}"
      ]
     },
     "execution_count": 10,
     "metadata": {},
     "output_type": "execute_result"
    }
   ],
   "source": [
    "# 2. dict()函数来创建字典： dict(key1=value1,key2=value2, ......)\n",
    "stud_info_02 = dict(\n",
    "    stud_10001 = \"Alex\",\n",
    "    stud_10002 = \"Jack\",\n",
    "    stud_10003 = \"Marry\",\n",
    ")\n",
    "stud_info_02"
   ]
  },
  {
   "cell_type": "code",
   "execution_count": 11,
   "id": "b2e26677",
   "metadata": {},
   "outputs": [],
   "source": [
    "stud_info_03 = {}\n",
    "stud_info_03[\"stud_10001\"] = \"Alex\"\n",
    "stud_info_03[\"stud_10002\"] = \"Jack\"\n",
    "stud_info_03[\"stud_10003\"] = \"Marry\""
   ]
  },
  {
   "cell_type": "code",
   "execution_count": 12,
   "id": "72e30780",
   "metadata": {},
   "outputs": [
    {
     "data": {
      "text/plain": [
       "{'stud_10001': 'Alex', 'stud_10002': 'Jack', 'stud_10003': 'Marry'}"
      ]
     },
     "execution_count": 12,
     "metadata": {},
     "output_type": "execute_result"
    }
   ],
   "source": [
    "stud_info_03"
   ]
  },
  {
   "cell_type": "code",
   "execution_count": 13,
   "id": "5bf86ddf",
   "metadata": {},
   "outputs": [
    {
     "data": {
      "text/plain": [
       "dict_keys(['stud_10001', 'stud_10002', 'stud_10003'])"
      ]
     },
     "execution_count": 13,
     "metadata": {},
     "output_type": "execute_result"
    }
   ],
   "source": [
    "stud_info_03.keys()"
   ]
  },
  {
   "cell_type": "code",
   "execution_count": 14,
   "id": "86307353",
   "metadata": {},
   "outputs": [
    {
     "data": {
      "text/plain": [
       "dict_values(['Alex', 'Jack', 'Marry'])"
      ]
     },
     "execution_count": 14,
     "metadata": {},
     "output_type": "execute_result"
    }
   ],
   "source": [
    "stud_info_03.values()"
   ]
  },
  {
   "cell_type": "markdown",
   "id": "66595279",
   "metadata": {},
   "source": [
    "-------\n",
    "\n",
    "# week09作业：\n",
    "\n",
    "> 1. 请尝试使用和学习字典的方法（必须完成）\n",
    "> 2. 给一组数据，利用字典查询的方式尝试查找指定的数据（尝试完成）"
   ]
  },
  {
   "cell_type": "code",
   "execution_count": 18,
   "id": "6d3300dc",
   "metadata": {},
   "outputs": [
    {
     "data": {
      "text/plain": [
       "{'number_1186': 'yy', 'number_1187': 'kk', 'number_1188': 'jj'}"
      ]
     },
     "execution_count": 18,
     "metadata": {},
     "output_type": "execute_result"
    }
   ],
   "source": [
    "# 直接创建字典\n",
    "number_info = {\n",
    "    \"number_1186\":\"yy\",\n",
    "    \"number_1187\":\"kk\",\n",
    "    \"number_1188\":\"jj\"\n",
    "}\n",
    "number_info"
   ]
  },
  {
   "cell_type": "code",
   "execution_count": 19,
   "id": "fb9ba20b",
   "metadata": {},
   "outputs": [
    {
     "data": {
      "text/plain": [
       "{'number_1186': 'yy', 'number_1187': 'kk', 'number_1188': 'jj'}"
      ]
     },
     "execution_count": 19,
     "metadata": {},
     "output_type": "execute_result"
    }
   ],
   "source": [
    "# dict()函数创建字典\n",
    "number_info_02 = dict(\n",
    "    number_1186 = \"yy\",\n",
    "    number_1187 = \"kk\",\n",
    "    number_1188 = \"jj\"\n",
    ")\n",
    "number_info_02"
   ]
  },
  {
   "cell_type": "code",
   "execution_count": 20,
   "id": "a2980e52",
   "metadata": {},
   "outputs": [
    {
     "data": {
      "text/plain": [
       "dict_keys(['number_1186', 'number_1187', 'number_1188'])"
      ]
     },
     "execution_count": 20,
     "metadata": {},
     "output_type": "execute_result"
    }
   ],
   "source": [
    "number_info.keys()"
   ]
  },
  {
   "cell_type": "code",
   "execution_count": 21,
   "id": "38499fc7",
   "metadata": {},
   "outputs": [
    {
     "data": {
      "text/plain": [
       "dict_values(['yy', 'kk', 'jj'])"
      ]
     },
     "execution_count": 21,
     "metadata": {},
     "output_type": "execute_result"
    }
   ],
   "source": [
    "number_info_02.values()"
   ]
  },
  {
   "cell_type": "code",
   "execution_count": null,
   "id": "9a708977",
   "metadata": {},
   "outputs": [],
   "source": []
  }
 ],
 "metadata": {
  "kernelspec": {
   "display_name": "Python 3",
   "language": "python",
   "name": "python3"
  },
  "language_info": {
   "codemirror_mode": {
    "name": "ipython",
    "version": 3
   },
   "file_extension": ".py",
   "mimetype": "text/x-python",
   "name": "python",
   "nbconvert_exporter": "python",
   "pygments_lexer": "ipython3",
   "version": "3.8.8"
  }
 },
 "nbformat": 4,
 "nbformat_minor": 5
}
