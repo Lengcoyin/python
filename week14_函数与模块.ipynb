{
 "cells": [
  {
   "cell_type": "markdown",
   "id": "5ca08b5b",
   "metadata": {},
   "source": [
    "* 登记人：yy\n",
    "* 相关文档学习资料：\n",
    "> 1. python官方文档\n",
    "> 2.许老师博客"
   ]
  },
  {
   "cell_type": "markdown",
   "id": "3868f8f6",
   "metadata": {},
   "source": [
    "# 1.函数\n",
    "\n",
    "## 1.函数的定义\n",
    "> 1. 数学 ： f(x) = ax + b\n",
    "> 2. python : def fib(x)\n",
    "> 3.编程思维 VS 数学思维\n",
    ">> 1. 函数可以被定义名称，定义的关键字  <font style=\"color:red\">**def**</font>\n",
    ">> 2. 数学思维是写在同一行（定义函数 和 运算公式），面向对象编程中 函数写多行，定义函数为单独一行\n",
    ">> 3. 数学函数\n",
    ">> 4. 数学中：ax + b 是计算公式，而编程中，我们将函数的内容成为**函数体**，函数体要有一定的**缩进**\n",
    ">> 5. 数学函数执行，将函数带入公式， 编程中函数执行，将参数带入函数体\n",
    "\n",
    "## 2.函数的进阶"
   ]
  },
  {
   "cell_type": "code",
   "execution_count": null,
   "id": "fa19aea7",
   "metadata": {},
   "outputs": [],
   "source": [
    "> 1. 定义函数\n",
    "\n",
    "def "
   ]
  },
  {
   "cell_type": "code",
   "execution_count": 1,
   "id": "27e69b05",
   "metadata": {},
   "outputs": [],
   "source": [
    "# 斐波那切数列 ： 0 1 1 2 3 5 8 13 21 34 ...\n",
    "def fib(x):\n",
    "    \"\"\"列出指定x以内的斐波那切数列\"\"\"\n",
    "    a,b = 0,1\n",
    "    while a < x:\n",
    "        print(a,end=\" \")\n",
    "        a,b = b,a+b"
   ]
  },
  {
   "cell_type": "code",
   "execution_count": 2,
   "id": "c4ec1909",
   "metadata": {},
   "outputs": [
    {
     "name": "stdout",
     "output_type": "stream",
     "text": [
      "0 1 1 2 3 5 8 13 21 34 55 89 "
     ]
    }
   ],
   "source": [
    "fib(100)"
   ]
  },
  {
   "cell_type": "code",
   "execution_count": 3,
   "id": "de6129db",
   "metadata": {},
   "outputs": [],
   "source": [
    "# 实践： 请大家写一个函数，这个函数可以打印 “你好，XXX同学”\n",
    "def hello(name):\n",
    "    \"\"\"显示问候语\"\"\"\n",
    "    print(\"hello,world\")"
   ]
  },
  {
   "cell_type": "code",
   "execution_count": 6,
   "id": "cdcb5c17",
   "metadata": {
    "scrolled": true
   },
   "outputs": [
    {
     "ename": "TypeError",
     "evalue": "hello() missing 1 required positional argument: 'name'",
     "output_type": "error",
     "traceback": [
      "\u001b[1;31m---------------------------------------------------------------------------\u001b[0m",
      "\u001b[1;31mTypeError\u001b[0m                                 Traceback (most recent call last)",
      "\u001b[1;32m<ipython-input-6-a75d7781aaeb>\u001b[0m in \u001b[0;36m<module>\u001b[1;34m\u001b[0m\n\u001b[1;32m----> 1\u001b[1;33m \u001b[0mhello\u001b[0m\u001b[1;33m(\u001b[0m\u001b[1;33m)\u001b[0m\u001b[1;33m\u001b[0m\u001b[1;33m\u001b[0m\u001b[0m\n\u001b[0m",
      "\u001b[1;31mTypeError\u001b[0m: hello() missing 1 required positional argument: 'name'"
     ]
    }
   ],
   "source": [
    "hello()"
   ]
  },
  {
   "cell_type": "code",
   "execution_count": 7,
   "id": "c98d1e2b",
   "metadata": {},
   "outputs": [],
   "source": [
    "# 回顾与思考\n",
    "import time"
   ]
  },
  {
   "cell_type": "code",
   "execution_count": null,
   "id": "3abf6e05",
   "metadata": {},
   "outputs": [],
   "source": [
    "# sleep() 需要给定一个时间"
   ]
  },
  {
   "cell_type": "markdown",
   "id": "249e54d7",
   "metadata": {},
   "source": [
    "## 3.函数的参数"
   ]
  },
  {
   "cell_type": "markdown",
   "id": "82b3492e",
   "metadata": {},
   "source": [
    "> 1. 形式参数（形参）\n",
    ">> 1. 在**定义**函数的时候定义的参数\n",
    ">> 2. 形式参数不占用内存\n",
    "> 2. 实际参数（实参）\n",
    ">> 1. 在**调用**函数的时候传递的参数\n",
    ">> 2. 调用函数时，形式参数分配空间，传递实际参数，执行函数内容"
   ]
  },
  {
   "cell_type": "markdown",
   "id": "89e27140",
   "metadata": {},
   "source": []
  },
  {
   "cell_type": "code",
   "execution_count": null,
   "id": "f42e3ff3",
   "metadata": {},
   "outputs": [],
   "source": [
    "# 课本函数实践案例\n",
    "def search4vowels(word):\n",
    "    \"\"\"显示文本中出现的元音字母有哪些\"\"\"\n",
    "    vowels = set (\"aeiou\")\n",
    "    word = set(word)\n",
    "    print(vowels & word)"
   ]
  },
  {
   "cell_type": "code",
   "execution_count": null,
   "id": "eafa23d8",
   "metadata": {},
   "outputs": [],
   "source": [
    "search4vowels"
   ]
  },
  {
   "cell_type": "markdown",
   "id": "94964c47",
   "metadata": {},
   "source": [
    "* 在多个参数\n",
    "\n",
    "> 1. 位置参数\n",
    "\n",
    "> 2. 关键字参数\n",
    "\n",
    "> 3. 默认参数\n"
   ]
  },
  {
   "cell_type": "code",
   "execution_count": 9,
   "id": "a893318d",
   "metadata": {},
   "outputs": [],
   "source": [
    "def describe_pet(pet_name,animal_type):\n",
    "    \"\"\"显示宠物信息\"\"\"\n",
    "    print(\"\\nI have a\" + animal_type + \".\")\n",
    "    print(\"My\" + animal_type + \"'s name is'\"+ pet_name.title() + \".\")"
   ]
  },
  {
   "cell_type": "code",
   "execution_count": 10,
   "id": "3af7b1ba",
   "metadata": {},
   "outputs": [
    {
     "name": "stdout",
     "output_type": "stream",
     "text": [
      "\n",
      "I have adog.\n",
      "Mydog's name is'豆豆.\n"
     ]
    }
   ],
   "source": [
    "describe_pet(\"豆豆\",\"dog\")"
   ]
  },
  {
   "cell_type": "code",
   "execution_count": 12,
   "id": "5bbc04dc",
   "metadata": {},
   "outputs": [
    {
     "name": "stdout",
     "output_type": "stream",
     "text": [
      "\n",
      "I have a豆豆.\n",
      "My豆豆's name is'Dog.\n"
     ]
    }
   ],
   "source": [
    "describe_pet(\"dog\",\"豆豆\")"
   ]
  },
  {
   "cell_type": "code",
   "execution_count": 1,
   "id": "74468eda",
   "metadata": {},
   "outputs": [
    {
     "ename": "NameError",
     "evalue": "name 'describe_pet' is not defined",
     "output_type": "error",
     "traceback": [
      "\u001b[1;31m---------------------------------------------------------------------------\u001b[0m",
      "\u001b[1;31mNameError\u001b[0m                                 Traceback (most recent call last)",
      "\u001b[1;32m<ipython-input-1-973106a267a3>\u001b[0m in \u001b[0;36m<module>\u001b[1;34m\u001b[0m\n\u001b[1;32m----> 1\u001b[1;33m \u001b[0mdescribe_pet\u001b[0m\u001b[1;33m(\u001b[0m\u001b[0manimal_type\u001b[0m\u001b[1;33m=\u001b[0m\u001b[1;34m\"cat\"\u001b[0m\u001b[1;33m,\u001b[0m\u001b[0mpet_name\u001b[0m\u001b[1;33m=\u001b[0m\u001b[1;34m\"微积分\"\u001b[0m\u001b[1;33m)\u001b[0m\u001b[1;33m\u001b[0m\u001b[1;33m\u001b[0m\u001b[0m\n\u001b[0m",
      "\u001b[1;31mNameError\u001b[0m: name 'describe_pet' is not defined"
     ]
    }
   ],
   "source": [
    "describe_pet(animal_type=\"cat\",pet_name=\"微积分\")"
   ]
  },
  {
   "cell_type": "code",
   "execution_count": 2,
   "id": "3e9d5b91",
   "metadata": {},
   "outputs": [],
   "source": [
    "## 默认参数\n",
    "def describe_pet(pet_name,animal_type=\"dog\"):\n",
    "    \"\"\"显示宠物信息\"\"\"\n",
    "    print(\"\\nI have a \" + animal_type + \".\")\n",
    "    print(\"My \" + animal_type + \"'s name is \"+pet_name.title() + \".\")"
   ]
  },
  {
   "cell_type": "code",
   "execution_count": 3,
   "id": "1422a95d",
   "metadata": {},
   "outputs": [
    {
     "name": "stdout",
     "output_type": "stream",
     "text": [
      "\n",
      "I have a cat.\n",
      "My cat's name is 豆豆.\n"
     ]
    }
   ],
   "source": [
    "describe_pet(\"豆豆\",\"cat\")"
   ]
  },
  {
   "cell_type": "code",
   "execution_count": null,
   "id": "ae3256ad",
   "metadata": {},
   "outputs": [],
   "source": []
  }
 ],
 "metadata": {
  "kernelspec": {
   "display_name": "Python 3",
   "language": "python",
   "name": "python3"
  },
  "language_info": {
   "codemirror_mode": {
    "name": "ipython",
    "version": 3
   },
   "file_extension": ".py",
   "mimetype": "text/x-python",
   "name": "python",
   "nbconvert_exporter": "python",
   "pygments_lexer": "ipython3",
   "version": "3.8.8"
  }
 },
 "nbformat": 4,
 "nbformat_minor": 5
}
